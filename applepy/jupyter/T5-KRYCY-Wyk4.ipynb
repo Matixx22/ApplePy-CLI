<!DOCTYPE html>

<html  dir="ltr" lang="pl" xml:lang="pl">
<head>
    <title>Uczelniana platforma nauczania zdalnego Moodle ePW: Zaloguj się do serwisu</title>
    <link rel="shortcut icon" href="https://moodle.usos.pw.edu.pl/theme/image.php/pw/theme/1636536955/favicon" />
    <meta http-equiv="Content-Type" content="text/html; charset=utf-8" />
<meta name="keywords" content="moodle, Uczelniana platforma nauczania zdalnego Moodle ePW: Zaloguj się do serwisu" />
<link rel="stylesheet" type="text/css" href="https://moodle.usos.pw.edu.pl/theme/yui_combo.php?rollup/3.17.2/yui-moodlesimple-min.css" /><script id="firstthemesheet" type="text/css">/** Required in order to fix style inclusion problems in IE with YUI **/</script><link rel="stylesheet" type="text/css" href="https://moodle.usos.pw.edu.pl/theme/styles.php/pw/1636536955_1/all" />
<script>
//<![CDATA[
var M = {}; M.yui = {};
M.pageloadstarttime = new Date();
M.cfg = {"wwwroot":"https:\/\/moodle.usos.pw.edu.pl","sesskey":"zEoMkA9a38","sessiontimeout":"7200","themerev":"1636536955","slasharguments":1,"theme":"pw","iconsystemmodule":"core\/icon_system_fontawesome","jsrev":"1636536955","admin":"admin","svgicons":true,"usertimezone":"Europa\/Warszawa","contextid":1,"langrev":1638241510,"templaterev":"1636536955"};var yui1ConfigFn = function(me) {if(/-skin|reset|fonts|grids|base/.test(me.name)){me.type='css';me.path=me.path.replace(/\.js/,'.css');me.path=me.path.replace(/\/yui2-skin/,'/assets/skins/sam/yui2-skin')}};
var yui2ConfigFn = function(me) {var parts=me.name.replace(/^moodle-/,'').split('-'),component=parts.shift(),module=parts[0],min='-min';if(/-(skin|core)$/.test(me.name)){parts.pop();me.type='css';min=''}
if(module){var filename=parts.join('-');me.path=component+'/'+module+'/'+filename+min+'.'+me.type}else{me.path=component+'/'+component+'.'+me.type}};
YUI_config = {"debug":false,"base":"https:\/\/moodle.usos.pw.edu.pl\/lib\/yuilib\/3.17.2\/","comboBase":"https:\/\/moodle.usos.pw.edu.pl\/theme\/yui_combo.php?","combine":true,"filter":null,"insertBefore":"firstthemesheet","groups":{"yui2":{"base":"https:\/\/moodle.usos.pw.edu.pl\/lib\/yuilib\/2in3\/2.9.0\/build\/","comboBase":"https:\/\/moodle.usos.pw.edu.pl\/theme\/yui_combo.php?","combine":true,"ext":false,"root":"2in3\/2.9.0\/build\/","patterns":{"yui2-":{"group":"yui2","configFn":yui1ConfigFn}}},"moodle":{"name":"moodle","base":"https:\/\/moodle.usos.pw.edu.pl\/theme\/yui_combo.php?m\/1636536955\/","combine":true,"comboBase":"https:\/\/moodle.usos.pw.edu.pl\/theme\/yui_combo.php?","ext":false,"root":"m\/1636536955\/","patterns":{"moodle-":{"group":"moodle","configFn":yui2ConfigFn}},"filter":null,"modules":{"moodle-core-actionmenu":{"requires":["base","event","node-event-simulate"]},"moodle-core-blocks":{"requires":["base","node","io","dom","dd","dd-scroll","moodle-core-dragdrop","moodle-core-notification"]},"moodle-core-chooserdialogue":{"requires":["base","panel","moodle-core-notification"]},"moodle-core-dragdrop":{"requires":["base","node","io","dom","dd","event-key","event-focus","moodle-core-notification"]},"moodle-core-event":{"requires":["event-custom"]},"moodle-core-formchangechecker":{"requires":["base","event-focus","moodle-core-event"]},"moodle-core-handlebars":{"condition":{"trigger":"handlebars","when":"after"}},"moodle-core-languninstallconfirm":{"requires":["base","node","moodle-core-notification-confirm","moodle-core-notification-alert"]},"moodle-core-lockscroll":{"requires":["plugin","base-build"]},"moodle-core-maintenancemodetimer":{"requires":["base","node"]},"moodle-core-notification":{"requires":["moodle-core-notification-dialogue","moodle-core-notification-alert","moodle-core-notification-confirm","moodle-core-notification-exception","moodle-core-notification-ajaxexception"]},"moodle-core-notification-dialogue":{"requires":["base","node","panel","escape","event-key","dd-plugin","moodle-core-widget-focusafterclose","moodle-core-lockscroll"]},"moodle-core-notification-alert":{"requires":["moodle-core-notification-dialogue"]},"moodle-core-notification-confirm":{"requires":["moodle-core-notification-dialogue"]},"moodle-core-notification-exception":{"requires":["moodle-core-notification-dialogue"]},"moodle-core-notification-ajaxexception":{"requires":["moodle-core-notification-dialogue"]},"moodle-core-popuphelp":{"requires":["moodle-core-tooltip"]},"moodle-core-tooltip":{"requires":["base","node","io-base","moodle-core-notification-dialogue","json-parse","widget-position","widget-position-align","event-outside","cache-base"]},"moodle-core_availability-form":{"requires":["base","node","event","event-delegate","panel","moodle-core-notification-dialogue","json"]},"moodle-backup-backupselectall":{"requires":["node","event","node-event-simulate","anim"]},"moodle-backup-confirmcancel":{"requires":["node","node-event-simulate","moodle-core-notification-confirm"]},"moodle-course-categoryexpander":{"requires":["node","event-key"]},"moodle-course-dragdrop":{"requires":["base","node","io","dom","dd","dd-scroll","moodle-core-dragdrop","moodle-core-notification","moodle-course-coursebase","moodle-course-util"]},"moodle-course-formatchooser":{"requires":["base","node","node-event-simulate"]},"moodle-course-management":{"requires":["base","node","io-base","moodle-core-notification-exception","json-parse","dd-constrain","dd-proxy","dd-drop","dd-delegate","node-event-delegate"]},"moodle-course-util":{"requires":["node"],"use":["moodle-course-util-base"],"submodules":{"moodle-course-util-base":{},"moodle-course-util-section":{"requires":["node","moodle-course-util-base"]},"moodle-course-util-cm":{"requires":["node","moodle-course-util-base"]}}},"moodle-form-dateselector":{"requires":["base","node","overlay","calendar"]},"moodle-form-passwordunmask":{"requires":[]},"moodle-form-shortforms":{"requires":["node","base","selector-css3","moodle-core-event"]},"moodle-question-chooser":{"requires":["moodle-core-chooserdialogue"]},"moodle-question-preview":{"requires":["base","dom","event-delegate","event-key","core_question_engine"]},"moodle-question-searchform":{"requires":["base","node"]},"moodle-availability_completion-form":{"requires":["base","node","event","moodle-core_availability-form"]},"moodle-availability_date-form":{"requires":["base","node","event","io","moodle-core_availability-form"]},"moodle-availability_grade-form":{"requires":["base","node","event","moodle-core_availability-form"]},"moodle-availability_group-form":{"requires":["base","node","event","moodle-core_availability-form"]},"moodle-availability_grouping-form":{"requires":["base","node","event","moodle-core_availability-form"]},"moodle-availability_profile-form":{"requires":["base","node","event","moodle-core_availability-form"]},"moodle-mod_assign-history":{"requires":["node","transition"]},"moodle-mod_quiz-autosave":{"requires":["base","node","event","event-valuechange","node-event-delegate","io-form"]},"moodle-mod_quiz-dragdrop":{"requires":["base","node","io","dom","dd","dd-scroll","moodle-core-dragdrop","moodle-core-notification","moodle-mod_quiz-quizbase","moodle-mod_quiz-util-base","moodle-mod_quiz-util-page","moodle-mod_quiz-util-slot","moodle-course-util"]},"moodle-mod_quiz-modform":{"requires":["base","node","event"]},"moodle-mod_quiz-questionchooser":{"requires":["moodle-core-chooserdialogue","moodle-mod_quiz-util","querystring-parse"]},"moodle-mod_quiz-quizbase":{"requires":["base","node"]},"moodle-mod_quiz-toolboxes":{"requires":["base","node","event","event-key","io","moodle-mod_quiz-quizbase","moodle-mod_quiz-util-slot","moodle-core-notification-ajaxexception"]},"moodle-mod_quiz-util":{"requires":["node","moodle-core-actionmenu"],"use":["moodle-mod_quiz-util-base"],"submodules":{"moodle-mod_quiz-util-base":{},"moodle-mod_quiz-util-slot":{"requires":["node","moodle-mod_quiz-util-base"]},"moodle-mod_quiz-util-page":{"requires":["node","moodle-mod_quiz-util-base"]}}},"moodle-message_airnotifier-toolboxes":{"requires":["base","node","io"]},"moodle-filter_glossary-autolinker":{"requires":["base","node","io-base","json-parse","event-delegate","overlay","moodle-core-event","moodle-core-notification-alert","moodle-core-notification-exception","moodle-core-notification-ajaxexception"]},"moodle-filter_mathjaxloader-loader":{"requires":["moodle-core-event"]},"moodle-editor_atto-editor":{"requires":["node","transition","io","overlay","escape","event","event-simulate","event-custom","node-event-html5","node-event-simulate","yui-throttle","moodle-core-notification-dialogue","moodle-core-notification-confirm","moodle-editor_atto-rangy","handlebars","timers","querystring-stringify"]},"moodle-editor_atto-plugin":{"requires":["node","base","escape","event","event-outside","handlebars","event-custom","timers","moodle-editor_atto-menu"]},"moodle-editor_atto-menu":{"requires":["moodle-core-notification-dialogue","node","event","event-custom"]},"moodle-editor_atto-rangy":{"requires":[]},"moodle-report_eventlist-eventfilter":{"requires":["base","event","node","node-event-delegate","datatable","autocomplete","autocomplete-filters"]},"moodle-report_loglive-fetchlogs":{"requires":["base","event","node","io","node-event-delegate"]},"moodle-gradereport_grader-gradereporttable":{"requires":["base","node","event","handlebars","overlay","event-hover"]},"moodle-gradereport_history-userselector":{"requires":["escape","event-delegate","event-key","handlebars","io-base","json-parse","moodle-core-notification-dialogue"]},"moodle-tool_capability-search":{"requires":["base","node"]},"moodle-tool_lp-dragdrop-reorder":{"requires":["moodle-core-dragdrop"]},"moodle-tool_monitor-dropdown":{"requires":["base","event","node"]},"moodle-assignfeedback_editpdf-editor":{"requires":["base","event","node","io","graphics","json","event-move","event-resize","transition","querystring-stringify-simple","moodle-core-notification-dialog","moodle-core-notification-alert","moodle-core-notification-warning","moodle-core-notification-exception","moodle-core-notification-ajaxexception"]},"moodle-atto_accessibilitychecker-button":{"requires":["color-base","moodle-editor_atto-plugin"]},"moodle-atto_accessibilityhelper-button":{"requires":["moodle-editor_atto-plugin"]},"moodle-atto_align-button":{"requires":["moodle-editor_atto-plugin"]},"moodle-atto_bold-button":{"requires":["moodle-editor_atto-plugin"]},"moodle-atto_charmap-button":{"requires":["moodle-editor_atto-plugin"]},"moodle-atto_clear-button":{"requires":["moodle-editor_atto-plugin"]},"moodle-atto_collapse-button":{"requires":["moodle-editor_atto-plugin"]},"moodle-atto_emojipicker-button":{"requires":["moodle-editor_atto-plugin"]},"moodle-atto_emoticon-button":{"requires":["moodle-editor_atto-plugin"]},"moodle-atto_equation-button":{"requires":["moodle-editor_atto-plugin","moodle-core-event","io","event-valuechange","tabview","array-extras"]},"moodle-atto_h5p-button":{"requires":["moodle-editor_atto-plugin"]},"moodle-atto_html-beautify":{},"moodle-atto_html-button":{"requires":["promise","moodle-editor_atto-plugin","moodle-atto_html-beautify","moodle-atto_html-codemirror","event-valuechange"]},"moodle-atto_html-codemirror":{"requires":["moodle-atto_html-codemirror-skin"]},"moodle-atto_image-button":{"requires":["moodle-editor_atto-plugin"]},"moodle-atto_indent-button":{"requires":["moodle-editor_atto-plugin"]},"moodle-atto_italic-button":{"requires":["moodle-editor_atto-plugin"]},"moodle-atto_link-button":{"requires":["moodle-editor_atto-plugin"]},"moodle-atto_managefiles-button":{"requires":["moodle-editor_atto-plugin"]},"moodle-atto_managefiles-usedfiles":{"requires":["node","escape"]},"moodle-atto_media-button":{"requires":["moodle-editor_atto-plugin","moodle-form-shortforms"]},"moodle-atto_noautolink-button":{"requires":["moodle-editor_atto-plugin"]},"moodle-atto_orderedlist-button":{"requires":["moodle-editor_atto-plugin"]},"moodle-atto_recordrtc-button":{"requires":["moodle-editor_atto-plugin","moodle-atto_recordrtc-recording"]},"moodle-atto_recordrtc-recording":{"requires":["moodle-atto_recordrtc-button"]},"moodle-atto_rtl-button":{"requires":["moodle-editor_atto-plugin"]},"moodle-atto_strike-button":{"requires":["moodle-editor_atto-plugin"]},"moodle-atto_subscript-button":{"requires":["moodle-editor_atto-plugin"]},"moodle-atto_superscript-button":{"requires":["moodle-editor_atto-plugin"]},"moodle-atto_table-button":{"requires":["moodle-editor_atto-plugin","moodle-editor_atto-menu","event","event-valuechange"]},"moodle-atto_title-button":{"requires":["moodle-editor_atto-plugin"]},"moodle-atto_underline-button":{"requires":["moodle-editor_atto-plugin"]},"moodle-atto_undo-button":{"requires":["moodle-editor_atto-plugin"]},"moodle-atto_unorderedlist-button":{"requires":["moodle-editor_atto-plugin"]}}},"gallery":{"name":"gallery","base":"https:\/\/moodle.usos.pw.edu.pl\/lib\/yuilib\/gallery\/","combine":true,"comboBase":"https:\/\/moodle.usos.pw.edu.pl\/theme\/yui_combo.php?","ext":false,"root":"gallery\/1636536955\/","patterns":{"gallery-":{"group":"gallery"}}}},"modules":{"core_filepicker":{"name":"core_filepicker","fullpath":"https:\/\/moodle.usos.pw.edu.pl\/lib\/javascript.php\/1636536955\/repository\/filepicker.js","requires":["base","node","node-event-simulate","json","async-queue","io-base","io-upload-iframe","io-form","yui2-treeview","panel","cookie","datatable","datatable-sort","resize-plugin","dd-plugin","escape","moodle-core_filepicker","moodle-core-notification-dialogue"]},"core_comment":{"name":"core_comment","fullpath":"https:\/\/moodle.usos.pw.edu.pl\/lib\/javascript.php\/1636536955\/comment\/comment.js","requires":["base","io-base","node","json","yui2-animation","overlay","escape"]},"mathjax":{"name":"mathjax","fullpath":"https:\/\/cdn.jsdelivr.net\/npm\/mathjax@2.7.8\/MathJax.js?delayStartupUntil=configured"}}};
M.yui.loader = {modules: {}};

//]]>
</script>

<meta name="robots" content="noindex" />
    <!-- local_accessibility -->
    <link rel="stylesheet" type="text/css" href="https://moodle.usos.pw.edu.pl/local/accessibility/userstyles.php">
    <meta name="viewport" content="width=device-width, initial-scale=1.0">
</head>

<body  id="page-login-index" class="format-site  path-login dir-ltr lang-pl yui-skin-sam yui3-skin-sam moodle-usos-pw-edu-pl pagelayout-login course-1 context-1 notloggedin ">

<div id="page-wrapper">

    <div>
    <a class="sr-only sr-only-focusable" href="#maincontent">Przejdź do głównej zawartości</a>
</div><script src="https://moodle.usos.pw.edu.pl/lib/javascript.php/1636536955/lib/babel-polyfill/polyfill.min.js"></script>
<script src="https://moodle.usos.pw.edu.pl/lib/javascript.php/1636536955/lib/polyfills/polyfill.js"></script>
<script src="https://moodle.usos.pw.edu.pl/theme/yui_combo.php?rollup/3.17.2/yui-moodlesimple-min.js"></script><script src="https://moodle.usos.pw.edu.pl/lib/javascript.php/1636536955/lib/javascript-static.js"></script>
<script>
//<![CDATA[
document.body.className += ' jsenabled';
//]]>
</script>



    
    <nav class="fixed-top navbar navbar-light bg-white navbar-expand moodle-has-zindex" aria-label="Nawigacja strony">
    
            <div data-region="drawer-toggle" class="d-inline-block mr-3">
                <button aria-expanded="false" aria-controls="nav-drawer" type="button" class="btn nav-link float-sm-left mr-1 btn-light btn-brand bg-btn-brand" data-action="toggle-drawer" data-side="left" data-preference="drawer-open-nav"><i class="icon fa fa-bars fa-fw " aria-hidden="true"  ></i><span class="sr-only">Panel boczny</span></button>
            </div>
    
            <ul class="navbar-nav d-none d-md-flex">
                <!-- custom_menu -->
                <li class="dropdown nav-item">
    <a class="dropdown-toggle nav-link" id="drop-down-61be00f16a72561be00f169a364" data-toggle="dropdown" aria-haspopup="true" aria-expanded="false" href="#" title="Język" aria-controls="drop-down-menu-61be00f16a72561be00f169a364">
        Polski ‎(pl)‎
    </a>
    <div class="dropdown-menu" role="menu" id="drop-down-menu-61be00f16a72561be00f169a364" aria-labelledby="drop-down-61be00f16a72561be00f169a364">
                <a class="dropdown-item" role="menuitem" href="https://moodle.usos.pw.edu.pl/login/index.php?lang=en" title="English ‎(en)‎">English ‎(en)‎</a>
                <a class="dropdown-item" role="menuitem" href="https://moodle.usos.pw.edu.pl/login/index.php?lang=pl" title="Polski ‎(pl)‎">Polski ‎(pl)‎</a>
    </div>
</li>
                <!-- page_heading_menu -->
                
            </ul>
    	<!-- ePW Button -->
        	<div class="nav navbar-nav ml-auto box-epw">
        	    <a href="https://epw.pw.edu.pl" target="_blank" alt="elektroniczna Politechnika Warszawska">
        		<img class="img-responsive img-fluid img-epwbt" src="https://moodle.usos.pw.edu.pl/theme/image.php/pw/theme/1636536955/epw_button" >
    	    </a>	
        	</div>
    
            <ul class="nav navbar-nav">
                <div class="d-none d-lg-block">
                
            </div>
    
                <li class="nav-item">
                        <!-- navbar_plugin_output -->
                        
                </li>
                <!-- user_menu -->
                <li class="nav-item d-flex align-items-center">
                    <div class="usermenu"><span class="login">Nie jesteś zalogowany(a)</span></div>
                </li>
            </ul>
    
            <!-- search_box -->
    </nav>
    
    <nav class="fixed-top2 navbar2" aria-label="Nawigacja strony">
        <div class="row">
    	<div class="col">
    	    	<img class="img-responsive img-fluid img-epw" src="https://moodle.usos.pw.edu.pl/theme/image.php/pw/theme/1636536955/epw_moodle" >
    	</div>
    	<div class="col">
        		<div class="nav-accessibility">
            		<!-- local_accessibility -->
            		<div id="accessibility_controls" class="content"><ul id="local_accessibility_textresize" class="button_row"><li class="access-button"><a title="Zmniejsz rozmiar tekstu" id="local_accessibility_dec" href="#">A-</a></li><li class="access-button"><a id="local_accessibility_reset" title="Zresetuj rozmiar tekstu (Czyści zapisane ustawienia)" href="#">A</a></li><li class="access-button"><a title="Zwiększ rozmiar tekstu" id="local_accessibility_inc" href="#">A+</a></li><li class="access-button" style="visibility: hidden">-</li><li class="access-button"><a title="Domyślny schemat kolorów (Czyści zapisane ustawienia)" id="local_accessibility_colour1" href="#">R</a></li><li class="access-button"><a title="Obniżony kontrast 1" id="local_accessibility_colour2" href="#">A</a></li><li class="access-button"><a title="Obniżony kontrast 2" id="local_accessibility_colour3" href="#">A</a></li><li class="access-button"><a title="Wysoki kontrast" id="local_accessibility_colour4" href="#">A</a></li></ul>
    
        		</div>
           </div>
       </div>	
    </nav>
    

    <div id="page" class="container-fluid">
        <div id="page-content" class="row">
            <div id="region-main-box" class="col-12">
                <section id="region-main" class="col-12">
                    <span class="notifications" id="user-notifications"></span>
                    <img class="img-responsive img-fluid img-pw mt-5" src="https://moodle.usos.pw.edu.pl/theme/image.php/pw/theme/1636536955/znak-pw" alt="Politechnika Warszawska">
                    <div role="main"><span id="maincontent"></span><div class="my-1 my-sm-5"></div>
<div class="row justify-content-center">
<div class="col-xl-6 col-sm-8 ">
<div class="card">
    <div class="card-block">
            <h2 class="card-header text-center">Wybierz opcję logowania</h2>
        <div class="card-body">

            <div class="accordion" id="accordionloginpw">
  <div class="card ">
    <div class="card-header violetpw" id="headingUSOS" data-toggle="collapse" data-target="#collapseUSOS"
          aria-expanded="true" aria-controls="collapseUSOS" aria-label="Jeśli posiadasz konto w Uniwersyteckim Systemie Obsługi Studiów (USOS)">
      <h5 class="mb-0">
        <a class="btn btn-link">
          <i class="fa fa-university"></i> <span>Jeśli posiadasz konto w Uniwersyteckim Systemie Obsługi Studiów (USOS)</span>
        </a>
      </h5>
    </div>
    <div id="collapseUSOS" class="collapse" aria-labelledby="headingUSOS"
      data-parent="#accordionloginpw">
      <div class="card-body">
<div class="row justify-content-center">
					<a href="https://moodle.usos.pw.edu.pl/login/index.php?authCAS=CAS" class="btn btn-primary btn-lg" data-toggle="tooltip" data-placement="top" title="Wszyscy studenci studiów stacjonarnych i niestacjonarnych oraz pracownicy będący nauczycielami akademickimi w Politechnice Warszawskiej posiadają konto w systemie USOS.">
					<i class="fa fa-play-circle">&nbsp;&nbsp;</i> Zaloguj USOS</a>
                    <p class="px-2 pt-2"><i class="fa fa-info-circle"></i> <small>Wszyscy studenci studiów stacjonarnych i niestacjonarnych oraz pracownicy będący nauczycielami akademickimi w Politechnice Warszawskiej posiadają konto w systemie USOS.</small></p>
					</div>
      </div>
    </div>
  </div>
  <div class="card ">
    <div class="card-header violetpw" id="headingMoodle"  data-toggle="collapse"
          data-target="#collapseMoodle" aria-expanded="false" aria-controls="collapseMoodle" aria-label="Jeśli posiadasz konto utworzone przez administratora platformy">
      <h5 class="mb-0">
        <a class="btn btn-link collapsed">
          <i class="fa fa-key"></i> <span>Jeśli posiadasz konto utworzone przez administratora platformy</span>
        </a>
      </h5>
    </div>
    <div id="collapseMoodle" class="collapse" aria-labelledby="headingMoodle"
      data-parent="#accordionloginpw">
      <div class="card-body">
                    <div class="row justify-content-md-center">
                <div class="col-md-5">
                    <form class="mt-3" action="https://moodle.usos.pw.edu.pl/login/index.php" method="post" id="login">
                        <input id="anchor" type="hidden" name="anchor" value="">
                        <script>document.getElementById('anchor').value = location.hash;</script>
                        <input type="hidden" name="logintoken" value="Cf85THr5iPjMAQLqcCGfE6wxY1iC04u5">
                        <div class="form-group">
                            <label for="username" class="sr-only">
                                    Nazwa użytkownika
                            </label>
                            <input type="text" name="username" id="username"
                                class="form-control"
                                value=""
                                placeholder="Nazwa użytkownika"
                                autocomplete="username">
                        </div>
                        <div class="form-group">
                            <label for="password" class="sr-only">Hasło</label>
                            <input type="password" name="password" id="password" value=""
                                class="form-control"
                                placeholder="Hasło"
                                autocomplete="current-password">
                        </div>
                            <div class="rememberpass mt-3">
                                <input type="checkbox" name="rememberusername" id="rememberusername" value="1"  />
                                <label for="rememberusername">Zapamiętaj login</label>
                            </div>

                        <button type="submit" class="btn btn-primary btn-block mt-3" id="loginbtn">Zaloguj się</button>
                    </form>
                </div>

                <div class="col-md-5">
                    <div class="forgetpass mt-3">
                        <p><a href="https://moodle.usos.pw.edu.pl/login/forgot_password.php">Zapomniałeś(aś) nazwy użytkownika lub hasła?</a></p>
                    </div>

                    <div class="mt-3">
                        Przyjmowanie cookies (ciasteczek) musi być włączone w Twojej przeglądarce
                        <a class="btn btn-link p-0" role="button"
    data-container="body" data-toggle="popover"
    data-placement="right" data-content="&lt;div class=&quot;no-overflow&quot;&gt;&lt;p&gt;Ta strona korzysta z dwóch cookies.&lt;/p&gt;

&lt;p&gt;Bardzo istotnym jest ten poświęcony sesjom, nazwany zazwyczaj &lt;b&gt;MoodleSession&lt;/b&gt;. Musisz zezwolić przeglądarce na umieszczenie tego cookie aby zachować ciągłość pracy, a także aby zachować twoje zalogowanie przy przechodzeniu między stronami. Kiedy się wylogowujesz, lub kończysz działanie przeglądarki ten cookie zostaje usunięty (z Twojej przeglądarki i z serwera).&lt;/p&gt;

&lt;p&gt;Drugi cookie jest używany dla czystej wygody i zazwyczaj nazywany jest &lt;b&gt;MOODLEID&lt;/b&gt;. Zapamiętana w nim jest twoja nazwa użytkownika. Oznacza to, że jeśli wrócisz na tą stronę pole &#039;nazwa użytkownika&#039; na ekranie logowania będzie automatycznie uzupełniane. Możesz spokojnie zrezygnować z tego cookie - będziesz po prostu musiał każdorazowo wprowadzać swoją nazwę użytkownika podczas procesu logowania.&lt;/p&gt;
&lt;/div&gt; "
    data-html="true" tabindex="0" data-trigger="focus">
  <i class="icon fa fa-question-circle text-info fa-fw "  title="Pomoc dla Przyjmowanie cookies (ciasteczek) musi być włączone w Twojej przeglądarce" aria-label="Pomoc dla Przyjmowanie cookies (ciasteczek) musi być włączone w Twojej przeglądarce"></i>
</a>
                    </div>
                        <div class="mt-2">
                            <p>Niektóre kursy dostępne są dla użytkowników zalogowanych jako goście.</p>
                            <form action="https://moodle.usos.pw.edu.pl/login/index.php" method="post" id="guestlogin">
                                <input type="hidden" name="logintoken" value="Cf85THr5iPjMAQLqcCGfE6wxY1iC04u5">
                                <input type="hidden" name="username" value="guest" />
                                <input type="hidden" name="password" value="guest" />
                                <button class="btn btn-secondary btn-block" type="submit">Zaloguj się jako gość</button>
                            </form>
                        </div>

                    <h6 class="mt-2">Zaloguj się używając swojego konta:</h6>
                    <div class="potentialidplist" class="mt-3">
                            <div class="potentialidp">
                                <a href="https://moodle.usos.pw.edu.pl/login/index.php?authCAS=CAS" title="CAS" class="btn btn-secondary btn-block">
                                        <img src="https://moodle.usos.pw.edu.pl/auth/usos/pix/usos.png" alt="" width="24" height="24"/>
                                    CAS
                                </a>
                            </div>
                    </div>
                </div>
            </div>
      </div>
    </div>
  </div>
  <div class="card ">
    <div class="card-header orangepw" id="headingHelp"  data-toggle="collapse"
          data-target="#collapseHelp" aria-expanded="false" aria-controls="collapseHelp" aria-label="Pomoc">
      <h5 class="mb-0">
        <a class="btn btn-link collapsed">
           <i class="fa fa-life-ring"></i> <span>Pomoc</span>
        </a>
      </h5>
    </div>
    <div id="collapseHelp" class="collapse" aria-labelledby="headingHelp"
      data-parent="#accordionloginpw">
<div class="card-body">
              		 <div class="card card-block">
			  <h5 class="card-header">Kto <i>posiada</i> konto w Uniwersyteckim Systemie Obsługi Studiów Politechniki Warszawskiej?</h5>
			  <div class="card-text"><p class="px-2 py-2">Wszyscy studenci studiów stacjonarnych i niestacjonarnych oraz pracownicy będący nauczycielami akademickimi w Politechnice Warszawskiej posiadają konto w systemie USOS.</p></div>

			   </div>
			   <div class="card card-block">
			  <h5 class="card-header">Kto posiada konto utworzone przez administratora platformy?</h5>
			    <div class="card-text"><p class="px-2 py-2">Użytkownicy, którzy nie dysponują kontem w ramach uniwersyteckiego systemu obsługi studiów</p></div>
			   </div>

			   <div class="card card-block">
			  <h5 class="card-header">Nie pamiętasz hasła?</h5>
			    <div class="card-text">
                    <ul class="list-group">
                        <li class="list-group-item">
                            W przypadku <strong>konta USOS</strong> w oknie logowania USOS 
                            <a href="https://moodle.usos.pw.edu.pl/login/index.php?authCAS=CAS" data-toggle="tooltip" data-placement="top" title="Użytkownicy USOS">
                            <i class="fa fa-play-circle"></i>&nbsp;(otwórz okno)</a> należy wybrać odsyłacz <i>Wygeneruj nowe hasło</i>
                        </li>
                        <li class="list-group-item">W przypadku konta utworzonego przez administratora należy wybrać odsyłacz <i>Zapomniałeś(aś) nazwy użytkownika lub hasła?</i></li>
                    </ul>
                </div>
			   </div>

            </div>
    </div>
  </div>
</div>
        </div>
    </div>
</div>
</div>
</div></div>
                    
                </section>
            </div>
        </div>
    </div>
    <img class="img-responsive img-fluid img-ue" src="https://moodle.usos.pw.edu.pl/theme/image.php/pw/theme/1636536955/ue" alt="RPO WM 2014-2020">    <div id="nav-drawer" data-region="drawer" class="d-print-none moodle-has-zindex closed" aria-hidden="true" tabindex="-1">
        <nav class="list-group" aria-label="">
            <ul>
                    <li>
                        <a class="list-group-item list-group-item-action  " href="https://moodle.usos.pw.edu.pl/" data-key="home" data-isexpandable="0" data-indent="0" data-showdivider="0" data-type="1" data-nodetype="1" data-collapse="0" data-forceopen="1" data-isactive="0" data-hidden="0" data-preceedwithhr="0" >
                            <div class="ml-0">
                                <div class="media">
                                        <span class="media-left">
                                            <i class="icon fa fa-home fa-fw " aria-hidden="true"  ></i>
                                        </span>
                                    <span class="media-body ">Strona główna</span>
                                </div>
                            </div>
                        </a>
                    </li>
            </ul>
        </nav>
    </div>
    <footer id="page-footer" class="py-3 bg-dark text-light">
        <div class="container">
            <div id="course-footer"></div>


            <div class="logininfo">Nie jesteś zalogowany(a)</div>
            <div class="homelink"><a href="https://moodle.usos.pw.edu.pl/">Strona główna</a></div>
            <div class="tool_dataprivacy"><a href="https://moodle.usos.pw.edu.pl/admin/tool/dataprivacy/summary.php">Podsumowanie zasad przechowywania danych</a></div><a href="https://download.moodle.org/mobile?version=2020061510&amp;lang=pl&amp;iosappid=633359593&amp;androidappid=com.moodle.moodlemobile">Pobierz aplikację mobilną</a><div class="policiesfooter"><a href="https://moodle.usos.pw.edu.pl/admin/tool/policy/viewall.php?returnurl=https%3A%2F%2Fmoodle.usos.pw.edu.pl%2Flogin%2Findex.php">Polityki</a></div>
            <script>
//<![CDATA[
var require = {
    baseUrl : 'https://moodle.usos.pw.edu.pl/lib/requirejs.php/1636536955/',
    // We only support AMD modules with an explicit define() statement.
    enforceDefine: true,
    skipDataMain: true,
    waitSeconds : 0,

    paths: {
        jquery: 'https://moodle.usos.pw.edu.pl/lib/javascript.php/1636536955/lib/jquery/jquery-3.5.1.min',
        jqueryui: 'https://moodle.usos.pw.edu.pl/lib/javascript.php/1636536955/lib/jquery/ui-1.12.1/jquery-ui.min',
        jqueryprivate: 'https://moodle.usos.pw.edu.pl/lib/javascript.php/1636536955/lib/requirejs/jquery-private'
    },

    // Custom jquery config map.
    map: {
      // '*' means all modules will get 'jqueryprivate'
      // for their 'jquery' dependency.
      '*': { jquery: 'jqueryprivate' },
      // Stub module for 'process'. This is a workaround for a bug in MathJax (see MDL-60458).
      '*': { process: 'core/first' },

      // 'jquery-private' wants the real jQuery module
      // though. If this line was not here, there would
      // be an unresolvable cyclic dependency.
      jqueryprivate: { jquery: 'jquery' }
    }
};

//]]>
</script>
<script src="https://moodle.usos.pw.edu.pl/lib/javascript.php/1636536955/lib/requirejs/require.min.js"></script>
<script>
//<![CDATA[
M.util.js_pending("core/first");require(['core/first'], function() {
require(['core/prefetch']);
;
require(["media_videojs/loader"], function(loader) {
    loader.setUp(function(videojs) {
        videojs.options.flash.swf = "https://moodle.usos.pw.edu.pl/media/player/videojs/videojs/video-js.swf";
videojs.addLanguage('pl', {
  "Play": "Odtwarzaj",
  "Pause": "Pauza",
  "Current Time": "Aktualny czas",
  "Duration": "Czas trwania",
  "Remaining Time": "Pozostały czas",
  "Stream Type": "Typ strumienia",
  "LIVE": "NA ŻYWO",
  "Loaded": "Załadowany",
  "Progress": "Status",
  "Fullscreen": "Pełny ekran",
  "Non-Fullscreen": "Pełny ekran niedostępny",
  "Mute": "Wyłącz dźwięk",
  "Unmute": "Włącz dźwięk",
  "Playback Rate": "Szybkość odtwarzania",
  "Subtitles": "Napisy",
  "subtitles off": "Napisy wyłączone",
  "Captions": "Transkrypcja",
  "captions off": "Transkrypcja wyłączona",
  "Chapters": "Rozdziały",
  "You aborted the media playback": "Odtwarzanie zostało przerwane",
  "A network error caused the media download to fail part-way.": "Problemy z siecią spowodowały błąd przy pobieraniu materiału wideo.",
  "The media could not be loaded, either because the server or network failed or because the format is not supported.": "Materiał wideo nie może być załadowany, ponieważ wystąpił problem z siecią lub format nie jest obsługiwany",
  "The media playback was aborted due to a corruption problem or because the media used features your browser did not support.": "Odtwarzanie materiału wideo zostało przerwane z powodu uszkodzonego pliku wideo lub z powodu błędu funkcji, które nie są wspierane przez przeglądarkę.",
  "No compatible source was found for this media.": "Dla tego materiału wideo nie znaleziono kompatybilnego źródła.",
  "Play Video": "Odtwarzaj wideo",
  "Close": "Zamknij",
  "Modal Window": "Okno Modala",
  "This is a modal window": "To jest okno modala",
  "This modal can be closed by pressing the Escape key or activating the close button.": "Ten modal możesz zamknąć naciskając przycisk Escape albo wybierając przycisk Zamknij.",
  ", opens captions settings dialog": ", otwiera okno dialogowe ustawień transkrypcji",
  ", opens subtitles settings dialog": ", otwiera okno dialogowe napisów",
  ", selected": ", zaznaczone"
});

    });
});;


require(['jquery', 'tool_policy/jquery-eu-cookie-law-popup', 'tool_policy/policyactions'], function($, Popup, ActionsMod) {
        // Initialise the guest popup.
        $(document).ready(function() {
            // Only show message if there is some policy related to guests.
                // Get localised messages.
                var textmessage = "Kontynuując przeglądanie tej strony wyrażasz zgodę  na nasze polityki" +
                   "<ul>" +
                   "<li>" +
                   "<a href=\"https://moodle.usos.pw.edu.pl/admin/tool/policy/view.php?versionid=1&amp;returnurl=https%3A%2F%2Fmoodle.usos.pw.edu.pl%2Flogin%2Findex.php\" " +
                   "   data-action=\"view-guest\" data-versionid=\"1\" data-behalfid=\"1\" >" +
                   "Polityka dotycząca cookies / Cookies files policy" +
                   "</a>" +
                   "</li>" +
                   "" +
                   "</ul>";
                var continuemessage = "Kontynuuj";

                // Initialize popup.
                $(document.body).addClass('eupopup');
                if ($(".eupopup").length > 0) {
                    $(document).euCookieLawPopup().init({
                        popupPosition: 'bottom',
                        popupTitle: '',
                        popupText: textmessage,
                        buttonContinueTitle: continuemessage,
                        buttonLearnmoreTitle: '',
                        compactStyle: true,
                    });
                }

            // Initialise the JS for the modal window which displays the policy versions.
            ActionsMod.init('[data-action="view-guest"]');
        });
});

;

require(['jquery', 'core/custom_interaction_events'], function($, CustomEvents) {
    CustomEvents.define('#single_select61be00f169a363', [CustomEvents.events.accessibleChange]);
    $('#single_select61be00f169a363').on(CustomEvents.events.accessibleChange, function() {
        var ignore = $(this).find(':selected').attr('data-ignore');
        if (typeof ignore === typeof undefined) {
            $('#single_select_f61be00f169a362').submit();
        }
    });
});
;
M.util.js_pending('local_accessibility/accessibility'); require(['local_accessibility/accessibility'], function(amd) {amd.init(); M.util.js_complete('local_accessibility/accessibility');});;

require(['theme_boost/loader']);
require(['theme_boost/drawer'], function(mod) {
    mod.init();
});
;

;
M.util.js_pending('core/notification'); require(['core/notification'], function(amd) {amd.init(1, [], false); M.util.js_complete('core/notification');});;
M.util.js_pending('core/log'); require(['core/log'], function(amd) {amd.setConfig({"level":"warn"}); M.util.js_complete('core/log');});;
M.util.js_pending('core/page_global'); require(['core/page_global'], function(amd) {amd.init(); M.util.js_complete('core/page_global');});M.util.js_complete("core/first");
});
//]]>
</script>
<script>
//<![CDATA[
M.str = {"moodle":{"lastmodified":"Ostatnia modyfikacja","name":"Nazwa","error":"B\u0142\u0105d","info":"Informacja","yes":"Tak","no":"Nie","cancel":"Anuluj","confirm":"Potwierd\u017a","areyousure":"Czy jeste\u015b pewny?","closebuttontitle":"Zamknij","unknownerror":"Nieznany b\u0142\u0105d","file":"Plik","url":"URL"},"repository":{"type":"Typ","size":"Rozmiar","invalidjson":"Nieprawid\u0142owy ci\u0105g jSON","nofilesattached":"Nie za\u0142\u0105czono plik\u00f3w","filepicker":"Wyb\u00f3r plik\u00f3w","logout":"Wyloguj si\u0119","nofilesavailable":"Brak dost\u0119pnych plik\u00f3w","norepositoriesavailable":"Niestety, \u017cadne z istniej\u0105cych repozytori\u00f3w nie mo\u017ce zawiera\u0107 plik\u00f3w w wymaganym formacie.","fileexistsdialogheader":"Plik istnieje","fileexistsdialog_editor":"Plik o wybranej nazwie zosta\u0142 ju\u017c za\u0142\u0105czony do tekstu, kt\u00f3ry edytujesz.","fileexistsdialog_filemanager":"Plik o wybranej nazwie ju\u017c zosta\u0142 do\u0142\u0105czony","renameto":"Zmie\u0144 nazw\u0119 na \"{$a}\"","referencesexist":"Istnieje {$a} skr\u00f3t\u00f3w, kt\u00f3re wykorzystuj\u0105 ten plik jako \u017ar\u00f3d\u0142o.","select":"Wybierz"},"admin":{"confirmdeletecomments":"Zamierzasz usun\u0105\u0107 komentarze, czy jeste\u015b pewien(a)?","confirmation":"Potwierdzenie"},"debug":{"debuginfo":"Debug info","line":"Line","stacktrace":"Stack trace"},"langconfig":{"labelsep":":"}};
//]]>
</script>
<script>
//<![CDATA[
(function() {Y.use("moodle-filter_mathjaxloader-loader",function() {M.filter_mathjaxloader.configure({"mathjaxconfig":"\nMathJax.Hub.Config({\n    config: [\"Accessible.js\", \"Safe.js\"],\n    errorSettings: { message: [\"!\"] },\n    skipStartupTypeset: true,\n    messageStyle: \"none\"\n});\n","lang":"pl"});
});
M.util.help_popups.setup(Y);
 M.util.js_pending('random61be00f169a365'); Y.on('domready', function() { M.util.js_complete("init");  M.util.js_complete('random61be00f169a365'); });
})();
//]]>
</script>

        </div>
    </footer>
</div>

</body>
</html>